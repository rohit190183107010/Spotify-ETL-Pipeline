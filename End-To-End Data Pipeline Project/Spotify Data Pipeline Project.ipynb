{
 "cells": [
  {
   "cell_type": "code",
   "execution_count": 47,
   "metadata": {},
   "outputs": [
    {
     "name": "stdout",
     "output_type": "stream",
     "text": [
      "Requirement already satisfied: spotipy in c:\\users\\rohit\\appdata\\local\\programs\\python\\python311\\lib\\site-packages (2.23.0)\n",
      "Requirement already satisfied: redis>=3.5.3 in c:\\users\\rohit\\appdata\\local\\programs\\python\\python311\\lib\\site-packages (from spotipy) (4.5.5)\n",
      "Requirement already satisfied: requests>=2.25.0 in c:\\users\\rohit\\appdata\\local\\programs\\python\\python311\\lib\\site-packages (from spotipy) (2.28.1)\n",
      "Requirement already satisfied: six>=1.15.0 in c:\\users\\rohit\\appdata\\roaming\\python\\python311\\site-packages (from spotipy) (1.16.0)\n",
      "Requirement already satisfied: urllib3>=1.26.0 in c:\\users\\rohit\\appdata\\local\\programs\\python\\python311\\lib\\site-packages (from spotipy) (1.26.13)\n",
      "Requirement already satisfied: async-timeout>=4.0.2 in c:\\users\\rohit\\appdata\\local\\programs\\python\\python311\\lib\\site-packages (from redis>=3.5.3->spotipy) (4.0.2)\n",
      "Requirement already satisfied: charset-normalizer<3,>=2 in c:\\users\\rohit\\appdata\\local\\programs\\python\\python311\\lib\\site-packages (from requests>=2.25.0->spotipy) (2.1.1)\n",
      "Requirement already satisfied: idna<4,>=2.5 in c:\\users\\rohit\\appdata\\local\\programs\\python\\python311\\lib\\site-packages (from requests>=2.25.0->spotipy) (3.4)\n",
      "Requirement already satisfied: certifi>=2017.4.17 in c:\\users\\rohit\\appdata\\local\\programs\\python\\python311\\lib\\site-packages (from requests>=2.25.0->spotipy) (2022.12.7)\n"
     ]
    }
   ],
   "source": [
    "!pip install spotipy"
   ]
  },
  {
   "cell_type": "code",
   "execution_count": 48,
   "metadata": {},
   "outputs": [],
   "source": [
    "import spotipy\n",
    "from spotipy import SpotifyClientCredentials\n",
    "import pandas as pd\n",
    "\n"
   ]
  },
  {
   "cell_type": "code",
   "execution_count": 49,
   "metadata": {},
   "outputs": [],
   "source": [
    "#add your keys here\n",
    "client_credentials_manager = SpotifyClientCredentials(client_id=\"04026bce6a3d40daa218787fa0f6bfc1\",client_secret=\"d93d75b6e23b4811af3051b02adb4cc1\")\n"
   ]
  },
  {
   "cell_type": "code",
   "execution_count": 50,
   "metadata": {},
   "outputs": [],
   "source": [
    "sp = spotipy.Spotify(client_credentials_manager=client_credentials_manager)"
   ]
  },
  {
   "cell_type": "code",
   "execution_count": 51,
   "metadata": {},
   "outputs": [
    {
     "data": {
      "text/plain": [
       "<spotipy.client.Spotify at 0x1e23d4c67d0>"
      ]
     },
     "execution_count": 51,
     "metadata": {},
     "output_type": "execute_result"
    }
   ],
   "source": [
    "sp"
   ]
  },
  {
   "cell_type": "code",
   "execution_count": 52,
   "metadata": {},
   "outputs": [],
   "source": [
    "playlist_link = \"https://open.spotify.com/playlist/37i9dQZEVXbNG2KDcFcKOF?si=1333723a6eff4b7f\""
   ]
  },
  {
   "cell_type": "code",
   "execution_count": 53,
   "metadata": {},
   "outputs": [
    {
     "data": {
      "text/plain": [
       "'https://open.spotify.com/playlist/37i9dQZEVXbNG2KDcFcKOF?si=1333723a6eff4b7f'"
      ]
     },
     "execution_count": 53,
     "metadata": {},
     "output_type": "execute_result"
    }
   ],
   "source": [
    "playlist_link"
   ]
  },
  {
   "cell_type": "code",
   "execution_count": 54,
   "metadata": {},
   "outputs": [
    {
     "data": {
      "text/plain": [
       "'37i9dQZEVXbNG2KDcFcKOF'"
      ]
     },
     "execution_count": 54,
     "metadata": {},
     "output_type": "execute_result"
    }
   ],
   "source": [
    "playlist_URI = playlist_link.split(\"/\")[-1].split(\"?\")[0]\n",
    "playlist_URI"
   ]
  },
  {
   "cell_type": "code",
   "execution_count": 55,
   "metadata": {},
   "outputs": [],
   "source": [
    "data = sp.playlist_tracks(playlist_URI)"
   ]
  },
  {
   "cell_type": "code",
   "execution_count": 56,
   "metadata": {},
   "outputs": [
    {
     "data": {
      "text/plain": [
       "'7aGzSSUD8S6IhPCsZSiuMT'"
      ]
     },
     "execution_count": 56,
     "metadata": {},
     "output_type": "execute_result"
    }
   ],
   "source": [
    "data['items'][0]['track']['album']['id']\n"
   ]
  },
  {
   "cell_type": "code",
   "execution_count": 57,
   "metadata": {},
   "outputs": [
    {
     "data": {
      "text/plain": [
       "'un x100to'"
      ]
     },
     "execution_count": 57,
     "metadata": {},
     "output_type": "execute_result"
    }
   ],
   "source": [
    "data['items'][0]['track']['album']['name']\n"
   ]
  },
  {
   "cell_type": "code",
   "execution_count": 58,
   "metadata": {},
   "outputs": [
    {
     "data": {
      "text/plain": [
       "'2023-04-17'"
      ]
     },
     "execution_count": 58,
     "metadata": {},
     "output_type": "execute_result"
    }
   ],
   "source": [
    "data['items'][0]['track']['album']['release_date']\n"
   ]
  },
  {
   "cell_type": "code",
   "execution_count": 59,
   "metadata": {},
   "outputs": [
    {
     "data": {
      "text/plain": [
       "1"
      ]
     },
     "execution_count": 59,
     "metadata": {},
     "output_type": "execute_result"
    }
   ],
   "source": [
    "data['items'][0]['track']['album']['total_tracks']\n"
   ]
  },
  {
   "cell_type": "code",
   "execution_count": 60,
   "metadata": {},
   "outputs": [
    {
     "data": {
      "text/plain": [
       "'https://open.spotify.com/album/7aGzSSUD8S6IhPCsZSiuMT'"
      ]
     },
     "execution_count": 60,
     "metadata": {},
     "output_type": "execute_result"
    }
   ],
   "source": [
    "data['items'][0]['track']['album']['external_urls']['spotify']\n"
   ]
  },
  {
   "cell_type": "code",
   "execution_count": 69,
   "metadata": {},
   "outputs": [
    {
     "ename": "NameError",
     "evalue": "name 'album_element' is not defined",
     "output_type": "error",
     "traceback": [
      "\u001b[1;31m---------------------------------------------------------------------------\u001b[0m",
      "\u001b[1;31mNameError\u001b[0m                                 Traceback (most recent call last)",
      "Cell \u001b[1;32mIn[69], line 8\u001b[0m\n\u001b[0;32m      6\u001b[0m album_url \u001b[39m=\u001b[39m row[\u001b[39m'\u001b[39m\u001b[39mtrack\u001b[39m\u001b[39m'\u001b[39m][\u001b[39m'\u001b[39m\u001b[39malbum\u001b[39m\u001b[39m'\u001b[39m][\u001b[39m'\u001b[39m\u001b[39mexternal_urls\u001b[39m\u001b[39m'\u001b[39m][\u001b[39m'\u001b[39m\u001b[39mspotify\u001b[39m\u001b[39m'\u001b[39m]\n\u001b[0;32m      7\u001b[0m ablum_element \u001b[39m=\u001b[39m {\u001b[39m'\u001b[39m\u001b[39malbum_id\u001b[39m\u001b[39m'\u001b[39m:album_id,\u001b[39m'\u001b[39m\u001b[39mname\u001b[39m\u001b[39m'\u001b[39m:album_name,\u001b[39m'\u001b[39m\u001b[39mrelease_date\u001b[39m\u001b[39m'\u001b[39m:album_release_date,\u001b[39m'\u001b[39m\u001b[39mtotal_tracks\u001b[39m\u001b[39m'\u001b[39m:album_total_tracks,\u001b[39m'\u001b[39m\u001b[39murl\u001b[39m\u001b[39m'\u001b[39m:album_url}\n\u001b[1;32m----> 8\u001b[0m \u001b[39mprint\u001b[39m(album_element)\n",
      "\u001b[1;31mNameError\u001b[0m: name 'album_element' is not defined"
     ]
    }
   ],
   "source": [
    "for row in data['items']:\n",
    "    album_id = row['track']['album']['id']\n",
    "    album_name = row['track']['album']['name']\n",
    "    album_release_date = row['track']['album']['release_date']\n",
    "    album_total_tracks = row['track']['album']['total_tracks']\n",
    "    album_url = row['track']['album']['external_urls']['spotify']\n",
    "    ablum_element = {'album_id':album_id,'name':album_name,'release_date':album_release_date,'total_tracks':album_total_tracks,'url':album_url}\n",
    "    print(ablum_element)\n"
   ]
  }
 ],
 "metadata": {
  "kernelspec": {
   "display_name": "Python 3",
   "language": "python",
   "name": "python3"
  },
  "language_info": {
   "codemirror_mode": {
    "name": "ipython",
    "version": 3
   },
   "file_extension": ".py",
   "mimetype": "text/x-python",
   "name": "python",
   "nbconvert_exporter": "python",
   "pygments_lexer": "ipython3",
   "version": "3.11.1"
  },
  "orig_nbformat": 4
 },
 "nbformat": 4,
 "nbformat_minor": 2
}
