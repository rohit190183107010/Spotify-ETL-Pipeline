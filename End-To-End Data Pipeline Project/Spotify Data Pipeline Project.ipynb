{
 "cells": [
  {
   "cell_type": "code",
   "execution_count": 2,
   "metadata": {},
   "outputs": [
    {
     "name": "stderr",
     "output_type": "stream",
     "text": [
      "'pip' is not recognized as an internal or external command,\n",
      "operable program or batch file.\n"
     ]
    }
   ],
   "source": [
    "!pip install spotipy"
   ]
  },
  {
   "cell_type": "code",
   "execution_count": 3,
   "metadata": {},
   "outputs": [],
   "source": [
    "import spotipy\n",
    "from spotipy import SpotifyClientCredentials\n",
    "import pandas as pd\n",
    "from config import CLIENT_ID,CLIENT_SECRET\n"
   ]
  },
  {
   "cell_type": "markdown",
   "metadata": {},
   "source": []
  },
  {
   "cell_type": "code",
   "execution_count": 4,
   "metadata": {},
   "outputs": [],
   "source": [
    "#add your keys here\n",
    "client_credentials_manager = SpotifyClientCredentials(client_id=CLIENT_ID,client_secret=CLIENT_SECRET)\n"
   ]
  },
  {
   "cell_type": "code",
   "execution_count": 5,
   "metadata": {},
   "outputs": [],
   "source": [
    "sp = spotipy.Spotify(client_credentials_manager=client_credentials_manager)"
   ]
  },
  {
   "cell_type": "code",
   "execution_count": 6,
   "metadata": {},
   "outputs": [
    {
     "data": {
      "text/plain": [
       "<spotipy.client.Spotify at 0x17655da1190>"
      ]
     },
     "execution_count": 6,
     "metadata": {},
     "output_type": "execute_result"
    }
   ],
   "source": [
    "sp"
   ]
  },
  {
   "cell_type": "code",
   "execution_count": 7,
   "metadata": {},
   "outputs": [],
   "source": [
    "playlist_link = \"https://open.spotify.com/playlist/37i9dQZEVXbNG2KDcFcKOF?si=1333723a6eff4b7f\""
   ]
  },
  {
   "cell_type": "code",
   "execution_count": 8,
   "metadata": {},
   "outputs": [
    {
     "data": {
      "text/plain": [
       "'https://open.spotify.com/playlist/37i9dQZEVXbNG2KDcFcKOF?si=1333723a6eff4b7f'"
      ]
     },
     "execution_count": 8,
     "metadata": {},
     "output_type": "execute_result"
    }
   ],
   "source": [
    "playlist_link"
   ]
  },
  {
   "cell_type": "code",
   "execution_count": 9,
   "metadata": {},
   "outputs": [
    {
     "data": {
      "text/plain": [
       "'37i9dQZEVXbNG2KDcFcKOF'"
      ]
     },
     "execution_count": 9,
     "metadata": {},
     "output_type": "execute_result"
    }
   ],
   "source": [
    "playlist_URI = playlist_link.split(\"/\")[-1].split(\"?\")[0]\n",
    "playlist_URI"
   ]
  },
  {
   "cell_type": "code",
   "execution_count": 10,
   "metadata": {},
   "outputs": [],
   "source": [
    "data = sp.playlist_tracks(playlist_URI)"
   ]
  },
  {
   "cell_type": "code",
   "execution_count": 11,
   "metadata": {},
   "outputs": [
    {
     "data": {
      "text/plain": [
       "'7aGzSSUD8S6IhPCsZSiuMT'"
      ]
     },
     "execution_count": 11,
     "metadata": {},
     "output_type": "execute_result"
    }
   ],
   "source": [
    "data['items'][0]['track']['album']['id']\n"
   ]
  },
  {
   "cell_type": "code",
   "execution_count": 12,
   "metadata": {},
   "outputs": [
    {
     "data": {
      "text/plain": [
       "'un x100to'"
      ]
     },
     "execution_count": 12,
     "metadata": {},
     "output_type": "execute_result"
    }
   ],
   "source": [
    "data['items'][0]['track']['album']['name']\n"
   ]
  },
  {
   "cell_type": "code",
   "execution_count": 13,
   "metadata": {},
   "outputs": [
    {
     "data": {
      "text/plain": [
       "'2023-04-17'"
      ]
     },
     "execution_count": 13,
     "metadata": {},
     "output_type": "execute_result"
    }
   ],
   "source": [
    "data['items'][0]['track']['album']['release_date']\n"
   ]
  },
  {
   "cell_type": "code",
   "execution_count": 14,
   "metadata": {},
   "outputs": [
    {
     "data": {
      "text/plain": [
       "1"
      ]
     },
     "execution_count": 14,
     "metadata": {},
     "output_type": "execute_result"
    }
   ],
   "source": [
    "data['items'][0]['track']['album']['total_tracks']\n"
   ]
  },
  {
   "cell_type": "code",
   "execution_count": 15,
   "metadata": {},
   "outputs": [
    {
     "data": {
      "text/plain": [
       "'https://open.spotify.com/album/7aGzSSUD8S6IhPCsZSiuMT'"
      ]
     },
     "execution_count": 15,
     "metadata": {},
     "output_type": "execute_result"
    }
   ],
   "source": [
    "data['items'][0]['track']['album']['external_urls']['spotify']\n"
   ]
  },
  {
   "cell_type": "code",
   "execution_count": 16,
   "metadata": {},
   "outputs": [
    {
     "name": "stdout",
     "output_type": "stream",
     "text": [
      "{'album_id': '7aGzSSUD8S6IhPCsZSiuMT', 'name': 'un x100to', 'release_date': '2023-04-17', 'total_tracks': 1, 'url': 'https://open.spotify.com/album/7aGzSSUD8S6IhPCsZSiuMT'}\n",
      "{'album_id': '5aDEezKnOqyQo0qvTFhpkM', 'name': 'DESVELADO', 'release_date': '2023-04-28', 'total_tracks': 16, 'url': 'https://open.spotify.com/album/5aDEezKnOqyQo0qvTFhpkM'}\n",
      "{'album_id': '6aBVGuOUEuX18rHxyDWbti', 'name': 'La Bebe (Remix)', 'release_date': '2023-03-17', 'total_tracks': 2, 'url': 'https://open.spotify.com/album/6aBVGuOUEuX18rHxyDWbti'}\n",
      "{'album_id': '5letLUZIFsQikJYShfGNs4', 'name': 'The Beginning: Cupid', 'release_date': '2023-02-24', 'total_tracks': 3, 'url': 'https://open.spotify.com/album/5letLUZIFsQikJYShfGNs4'}\n",
      "{'album_id': '0HiZ8fNXwJOQcrf5iflrdz', 'name': 'Endless Summer Vacation', 'release_date': '2023-03-10', 'total_tracks': 13, 'url': 'https://open.spotify.com/album/0HiZ8fNXwJOQcrf5iflrdz'}\n",
      "{'album_id': '1nrVofqDRs7cpWXJ49qTnP', 'name': 'SOS', 'release_date': '2022-12-08', 'total_tracks': 23, 'url': 'https://open.spotify.com/album/1nrVofqDRs7cpWXJ49qTnP'}\n",
      "{'album_id': '6NcI39WPu4kY6Tul11nhSv', 'name': 'Daylight', 'release_date': '2023-04-14', 'total_tracks': 1, 'url': 'https://open.spotify.com/album/6NcI39WPu4kY6Tul11nhSv'}\n",
      "{'album_id': '4kS7bSuU0Jm9LYMosFU2x5', 'name': 'MAÑANA SERÁ BONITO', 'release_date': '2023-02-24', 'total_tracks': 17, 'url': 'https://open.spotify.com/album/4kS7bSuU0Jm9LYMosFU2x5'}\n",
      "{'album_id': '5r36AJ6VOJtp00oxSkBZ5h', 'name': \"Harry's House\", 'release_date': '2022-05-20', 'total_tracks': 13, 'url': 'https://open.spotify.com/album/5r36AJ6VOJtp00oxSkBZ5h'}\n",
      "{'album_id': '4jtQUtS4ABgER3DnGfKJCv', 'name': 'Classy 101', 'release_date': '2023-03-31', 'total_tracks': 1, 'url': 'https://open.spotify.com/album/4jtQUtS4ABgER3DnGfKJCv'}\n",
      "{'album_id': '2OXBosbXT7Qs3J6vBd6IkI', 'name': 'PRC', 'release_date': '2023-01-23', 'total_tracks': 1, 'url': 'https://open.spotify.com/album/2OXBosbXT7Qs3J6vBd6IkI'}\n",
      "{'album_id': '0nayxjaX54Frd7GsZq6Pbs', 'name': 'Rave & Roses Ultra', 'release_date': '2023-04-27', 'total_tracks': 22, 'url': 'https://open.spotify.com/album/0nayxjaX54Frd7GsZq6Pbs'}\n",
      "{'album_id': '50uChhk7AKkzDKytDixjYW', 'name': 'RR', 'release_date': '2023-03-24', 'total_tracks': 3, 'url': 'https://open.spotify.com/album/50uChhk7AKkzDKytDixjYW'}\n",
      "{'album_id': '35dut3ICqF3NEDkjxfzJJ1', 'name': 'Starboy (Deluxe)', 'release_date': '2023-03-14', 'total_tracks': 21, 'url': 'https://open.spotify.com/album/35dut3ICqF3NEDkjxfzJJ1'}\n",
      "{'album_id': '7txGsnDSqVMoRl6RQ9XyZP', 'name': 'HEROES & VILLAINS', 'release_date': '2022-12-02', 'total_tracks': 15, 'url': 'https://open.spotify.com/album/7txGsnDSqVMoRl6RQ9XyZP'}\n",
      "{'album_id': '2szyIt0ulaHnKxxyrlUCDB', 'name': 'El Azul', 'release_date': '2023-02-10', 'total_tracks': 1, 'url': 'https://open.spotify.com/album/2szyIt0ulaHnKxxyrlUCDB'}\n",
      "{'album_id': '5xefnzEqKIWnmTWYFzekGZ', 'name': 'Resistencia', 'release_date': '2023-01-13', 'total_tracks': 17, 'url': 'https://open.spotify.com/album/5xefnzEqKIWnmTWYFzekGZ'}\n",
      "{'album_id': '0s2sLResjP92wRavoj9k0O', 'name': 'AMG', 'release_date': '2022-11-24', 'total_tracks': 1, 'url': 'https://open.spotify.com/album/0s2sLResjP92wRavoj9k0O'}\n",
      "{'album_id': '2nkto6YNI4rUYTLqEwWJ3o', 'name': 'Flower Boy', 'release_date': '2017-07-21', 'total_tracks': 14, 'url': 'https://open.spotify.com/album/2nkto6YNI4rUYTLqEwWJ3o'}\n",
      "{'album_id': '6cVfHBcp3AdpYY0bBglkLN', 'name': \"Boy's a liar Pt. 2\", 'release_date': '2023-02-03', 'total_tracks': 2, 'url': 'https://open.spotify.com/album/6cVfHBcp3AdpYY0bBglkLN'}\n",
      "{'album_id': '151w1FgRZfnKZA9FEcg9Z3', 'name': 'Midnights', 'release_date': '2022-10-21', 'total_tracks': 13, 'url': 'https://open.spotify.com/album/151w1FgRZfnKZA9FEcg9Z3'}\n",
      "{'album_id': '6i7mF7whyRJuLJ4ogbH2wh', 'name': 'One Thing At A Time', 'release_date': '2023-03-03', 'total_tracks': 36, 'url': 'https://open.spotify.com/album/6i7mF7whyRJuLJ4ogbH2wh'}\n",
      "{'album_id': '4AdZV63ycxFLF6Hcol0QnB', 'name': 'Starboy', 'release_date': '2016-11-24', 'total_tracks': 18, 'url': 'https://open.spotify.com/album/4AdZV63ycxFLF6Hcol0QnB'}\n",
      "{'album_id': '7M842DMhYVALrXsw3ty7B3', 'name': \"I'm Good (Blue)\", 'release_date': '2022-08-26', 'total_tracks': 2, 'url': 'https://open.spotify.com/album/7M842DMhYVALrXsw3ty7B3'}\n",
      "{'album_id': '6USJaTtVIy0YH5hhzOWVHe', 'name': 'Por las Noches', 'release_date': '2021-06-11', 'total_tracks': 1, 'url': 'https://open.spotify.com/album/6USJaTtVIy0YH5hhzOWVHe'}\n",
      "{'album_id': '78bpIziExqiI9qztvNFlQu', 'name': 'AM', 'release_date': '2013-09-09', 'total_tracks': 12, 'url': 'https://open.spotify.com/album/78bpIziExqiI9qztvNFlQu'}\n",
      "{'album_id': '0DqHNI5QhosQmpQ5Ojzqe6', 'name': 'El Gordo Trae El Mando', 'release_date': '2023-01-27', 'total_tracks': 1, 'url': 'https://open.spotify.com/album/0DqHNI5QhosQmpQ5Ojzqe6'}\n",
      "{'album_id': '0OuoHWf8yB0TPzoBWw1R1S', 'name': 'Here With Me', 'release_date': '2022-09-22', 'total_tracks': 1, 'url': 'https://open.spotify.com/album/0OuoHWf8yB0TPzoBWw1R1S'}\n",
      "{'album_id': '1gi2iwr1l8IUyHYHxi01pg', 'name': 'Shakira: Bzrp Music Sessions, Vol. 53', 'release_date': '2023-01-11', 'total_tracks': 1, 'url': 'https://open.spotify.com/album/1gi2iwr1l8IUyHYHxi01pg'}\n",
      "{'album_id': '3Uq1jNGnD412ZvCb6j2DKV', 'name': 'Gloria', 'release_date': '2023-01-27', 'total_tracks': 13, 'url': 'https://open.spotify.com/album/3Uq1jNGnD412ZvCb6j2DKV'}\n",
      "{'album_id': '4xc3Lc9yASZgEJGH7acWMB', 'name': 'FACE', 'release_date': '2023-03-24', 'total_tracks': 6, 'url': 'https://open.spotify.com/album/4xc3Lc9yASZgEJGH7acWMB'}\n",
      "{'album_id': '69AaAkdktFGnk9POmHENkT', 'name': 'this is what ____ feels like (Vol. 1-4)', 'release_date': '2022-09-23', 'total_tracks': 12, 'url': 'https://open.spotify.com/album/69AaAkdktFGnk9POmHENkT'}\n",
      "{'album_id': '7ARtQpvnPN2ucbmVHngLOs', 'name': 'Until I Found You (Em Beihold Version)', 'release_date': '2022-04-22', 'total_tracks': 1, 'url': 'https://open.spotify.com/album/7ARtQpvnPN2ucbmVHngLOs'}\n",
      "{'album_id': '2ODvWsOgouMbaA5xf0RkJe', 'name': 'Starboy', 'release_date': '2016-11-25', 'total_tracks': 18, 'url': 'https://open.spotify.com/album/2ODvWsOgouMbaA5xf0RkJe'}\n",
      "{'album_id': '2WFFcvzM0CgLaSq4MSkyZk', 'name': '- (Deluxe)', 'release_date': '2023-05-05', 'total_tracks': 18, 'url': 'https://open.spotify.com/album/2WFFcvzM0CgLaSq4MSkyZk'}\n",
      "{'album_id': '33inEak0hNKMDePhjGxE61', 'name': 'OneRepublic (Japan Paradise Tour Edition)', 'release_date': '2023-02-15', 'total_tracks': 18, 'url': 'https://open.spotify.com/album/33inEak0hNKMDePhjGxE61'}\n",
      "{'album_id': '4QuczuzDZNzCDli5Gz6DQ0', 'name': 'ME', 'release_date': '2023-03-31', 'total_tracks': 2, 'url': 'https://open.spotify.com/album/4QuczuzDZNzCDli5Gz6DQ0'}\n",
      "{'album_id': '0KGBW1MQtC2aFPCDUdAkdJ', 'name': 'Long Way Down', 'release_date': '2013-06-17', 'total_tracks': 10, 'url': 'https://open.spotify.com/album/0KGBW1MQtC2aFPCDUdAkdJ'}\n",
      "{'album_id': '1kjfMVBNhsDeRyAu9zbLfF', 'name': 'OzuTochi', 'release_date': '2022-10-07', 'total_tracks': 18, 'url': 'https://open.spotify.com/album/1kjfMVBNhsDeRyAu9zbLfF'}\n",
      "{'album_id': '7ubO2LZJZFpyhiWMZkRwcH', 'name': '2000', 'release_date': '2023-03-17', 'total_tracks': 15, 'url': 'https://open.spotify.com/album/7ubO2LZJZFpyhiWMZkRwcH'}\n",
      "{'album_id': '5OZ44LaqZbpP3m9B3oT8br', 'name': 'Red Moon In Venus', 'release_date': '2023-03-03', 'total_tracks': 15, 'url': 'https://open.spotify.com/album/5OZ44LaqZbpP3m9B3oT8br'}\n",
      "{'album_id': '5BRhg6NSEZOj0BR6Iz56fR', 'name': 'Plastic Hearts', 'release_date': '2020-11-27', 'total_tracks': 15, 'url': 'https://open.spotify.com/album/5BRhg6NSEZOj0BR6Iz56fR'}\n",
      "{'album_id': '5Hmh6N8oisrcuZKa8EY5dn', 'name': 'People', 'release_date': '2022-12-06', 'total_tracks': 1, 'url': 'https://open.spotify.com/album/5Hmh6N8oisrcuZKa8EY5dn'}\n",
      "{'album_id': '4PNqWiJAfjj32hVvlchV5u', 'name': 'Quevedo: Bzrp Music Sessions, Vol. 52', 'release_date': '2022-07-06', 'total_tracks': 1, 'url': 'https://open.spotify.com/album/4PNqWiJAfjj32hVvlchV5u'}\n",
      "{'album_id': '1kTlYbs28MXw7hwO0NLYif', 'name': 'Encore (Deluxe Version)', 'release_date': '2004-11-12', 'total_tracks': 23, 'url': 'https://open.spotify.com/album/1kTlYbs28MXw7hwO0NLYif'}\n",
      "{'album_id': '1NAmidJlEaVgA3MpcPFYGq', 'name': 'Lover', 'release_date': '2019-08-23', 'total_tracks': 18, 'url': 'https://open.spotify.com/album/1NAmidJlEaVgA3MpcPFYGq'}\n",
      "{'album_id': '6BGN5CVd7koJApotl5Bj8u', 'name': '3MEN2 KBRN', 'release_date': '2023-03-17', 'total_tracks': 18, 'url': 'https://open.spotify.com/album/6BGN5CVd7koJApotl5Bj8u'}\n",
      "{'album_id': '7qcSUc5Af63mhfTF60KTEA', 'name': 'Chemical', 'release_date': '2023-04-14', 'total_tracks': 1, 'url': 'https://open.spotify.com/album/7qcSUc5Af63mhfTF60KTEA'}\n",
      "{'album_id': '4cd4QB02mwPtiTOJBzQmWo', 'name': 'Chanel', 'release_date': '2023-03-30', 'total_tracks': 1, 'url': 'https://open.spotify.com/album/4cd4QB02mwPtiTOJBzQmWo'}\n",
      "{'album_id': '45ozep8uHHnj5CCittuyXj', 'name': \"NewJeans 'OMG'\", 'release_date': '2023-01-02', 'total_tracks': 2, 'url': 'https://open.spotify.com/album/45ozep8uHHnj5CCittuyXj'}\n"
     ]
    }
   ],
   "source": [
    "for row in data['items']:\n",
    "    album_id = row['track']['album']['id']\n",
    "    album_name = row['track']['album']['name']\n",
    "    album_release_date = row['track']['album']['release_date']\n",
    "    album_total_tracks = row['track']['album']['total_tracks']\n",
    "    album_url = row['track']['album']['external_urls']['spotify']\n",
    "    ablum_element = {'album_id':album_id,'name':album_name,'release_date':album_release_date,'total_tracks':album_total_tracks,'url':album_url}\n",
    "    print(ablum_element)\n"
   ]
  }
 ],
 "metadata": {
  "kernelspec": {
   "display_name": "Python 3",
   "language": "python",
   "name": "python3"
  },
  "language_info": {
   "codemirror_mode": {
    "name": "ipython",
    "version": 3
   },
   "file_extension": ".py",
   "mimetype": "text/x-python",
   "name": "python",
   "nbconvert_exporter": "python",
   "pygments_lexer": "ipython3",
   "version": "3.11.1"
  },
  "orig_nbformat": 4
 },
 "nbformat": 4,
 "nbformat_minor": 2
}
